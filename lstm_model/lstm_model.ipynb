{
 "cells": [
  {
   "cell_type": "markdown",
   "id": "9349392f-4728-44d5-8128-d93a4e4705bb",
   "metadata": {},
   "source": [
    "# LSTM Sentiment Analysis"
   ]
  },
  {
   "cell_type": "markdown",
   "id": "c0d7d969-9071-4a3b-8141-9e9614428e67",
   "metadata": {},
   "source": [
    "### Preparing The Environment"
   ]
  },
  {
   "cell_type": "code",
   "execution_count": 1,
   "id": "8da2a76e-1629-4c6c-9ebd-b72437dcc066",
   "metadata": {
    "tags": []
   },
   "outputs": [],
   "source": [
    "# Import library\n",
    "import pandas as pd\n",
    "import numpy as np\n",
    "import re\n",
    "from matplotlib import pyplot as plt"
   ]
  },
  {
   "cell_type": "code",
   "execution_count": 2,
   "id": "c74c2427-a1b6-4742-a88a-824464703728",
   "metadata": {
    "tags": []
   },
   "outputs": [
    {
     "data": {
      "text/html": [
       "<div>\n",
       "<style scoped>\n",
       "    .dataframe tbody tr th:only-of-type {\n",
       "        vertical-align: middle;\n",
       "    }\n",
       "\n",
       "    .dataframe tbody tr th {\n",
       "        vertical-align: top;\n",
       "    }\n",
       "\n",
       "    .dataframe thead th {\n",
       "        text-align: right;\n",
       "    }\n",
       "</style>\n",
       "<table border=\"1\" class=\"dataframe\">\n",
       "  <thead>\n",
       "    <tr style=\"text-align: right;\">\n",
       "      <th></th>\n",
       "      <th>kalimat</th>\n",
       "      <th>sentiment</th>\n",
       "      <th>clean text</th>\n",
       "      <th>clean stopword</th>\n",
       "    </tr>\n",
       "  </thead>\n",
       "  <tbody>\n",
       "    <tr>\n",
       "      <th>0</th>\n",
       "      <td>warung ini dimiliki oleh pengusaha pabrik tahu...</td>\n",
       "      <td>positive</td>\n",
       "      <td>warung ini dimiliki oleh pengusaha pabrik tahu...</td>\n",
       "      <td>warung dimiliki pengusaha pabrik puluhan terke...</td>\n",
       "    </tr>\n",
       "    <tr>\n",
       "      <th>1</th>\n",
       "      <td>mohon ulama lurus dan k212 mmbri hujjah partai...</td>\n",
       "      <td>neutral</td>\n",
       "      <td>mohon ulama lurus dan k212 mmbri hujjah partai...</td>\n",
       "      <td>mohon ulama lurus k212 mmbri hujjah partai diw...</td>\n",
       "    </tr>\n",
       "    <tr>\n",
       "      <th>2</th>\n",
       "      <td>lokasi strategis di jalan sumatera bandung . t...</td>\n",
       "      <td>positive</td>\n",
       "      <td>lokasi strategis di jalan sumatera bandung tem...</td>\n",
       "      <td>lokasi strategis jalan sumatera bandung nyaman...</td>\n",
       "    </tr>\n",
       "    <tr>\n",
       "      <th>3</th>\n",
       "      <td>betapa bahagia nya diri ini saat unboxing pake...</td>\n",
       "      <td>positive</td>\n",
       "      <td>betapa bahagia nya diri ini saat unboxing pake...</td>\n",
       "      <td>betapa bahagia unboxing paket barang bagus men...</td>\n",
       "    </tr>\n",
       "    <tr>\n",
       "      <th>4</th>\n",
       "      <td>duh . jadi mahasiswa jangan sombong dong . kas...</td>\n",
       "      <td>negative</td>\n",
       "      <td>duh jadi mahasiswa jangan sombong dong kasih k...</td>\n",
       "      <td>duh mahasiswa sombong kasih kartu kuning belaj...</td>\n",
       "    </tr>\n",
       "    <tr>\n",
       "      <th>...</th>\n",
       "      <td>...</td>\n",
       "      <td>...</td>\n",
       "      <td>...</td>\n",
       "      <td>...</td>\n",
       "    </tr>\n",
       "    <tr>\n",
       "      <th>10995</th>\n",
       "      <td>tidak kecewa</td>\n",
       "      <td>positive</td>\n",
       "      <td>tidak kecewa</td>\n",
       "      <td>tidak kecewa</td>\n",
       "    </tr>\n",
       "    <tr>\n",
       "      <th>10996</th>\n",
       "      <td>enak rasa masakan nya apalagi kepiting yang me...</td>\n",
       "      <td>positive</td>\n",
       "      <td>enak rasa masakan nya apalagi kepiting yang me...</td>\n",
       "      <td>enak masakan kepiting menyenangkan memilih kep...</td>\n",
       "    </tr>\n",
       "    <tr>\n",
       "      <th>10997</th>\n",
       "      <td>hormati partai-partai yang telah berkoalisi</td>\n",
       "      <td>neutral</td>\n",
       "      <td>hormati partai partai yang telah berkoalisi</td>\n",
       "      <td>hormati partai partai berkoalisi</td>\n",
       "    </tr>\n",
       "    <tr>\n",
       "      <th>10998</th>\n",
       "      <td>pagi pagi di tol pasteur sudah macet parah , b...</td>\n",
       "      <td>negative</td>\n",
       "      <td>pagi pagi di tol pasteur sudah macet parah bik...</td>\n",
       "      <td>pagi pagi tol pasteur macet parah bikin jengkel</td>\n",
       "    </tr>\n",
       "    <tr>\n",
       "      <th>10999</th>\n",
       "      <td>meskipun sering belanja ke yogya di riau junct...</td>\n",
       "      <td>positive</td>\n",
       "      <td>meskipun sering belanja ke yogya di riau junct...</td>\n",
       "      <td>belanja yogya riau junction kali lihat foodlif...</td>\n",
       "    </tr>\n",
       "  </tbody>\n",
       "</table>\n",
       "<p>11000 rows × 4 columns</p>\n",
       "</div>"
      ],
      "text/plain": [
       "                                                 kalimat sentiment  \\\n",
       "0      warung ini dimiliki oleh pengusaha pabrik tahu...  positive   \n",
       "1      mohon ulama lurus dan k212 mmbri hujjah partai...   neutral   \n",
       "2      lokasi strategis di jalan sumatera bandung . t...  positive   \n",
       "3      betapa bahagia nya diri ini saat unboxing pake...  positive   \n",
       "4      duh . jadi mahasiswa jangan sombong dong . kas...  negative   \n",
       "...                                                  ...       ...   \n",
       "10995                                       tidak kecewa  positive   \n",
       "10996  enak rasa masakan nya apalagi kepiting yang me...  positive   \n",
       "10997        hormati partai-partai yang telah berkoalisi   neutral   \n",
       "10998  pagi pagi di tol pasteur sudah macet parah , b...  negative   \n",
       "10999  meskipun sering belanja ke yogya di riau junct...  positive   \n",
       "\n",
       "                                              clean text  \\\n",
       "0      warung ini dimiliki oleh pengusaha pabrik tahu...   \n",
       "1      mohon ulama lurus dan k212 mmbri hujjah partai...   \n",
       "2      lokasi strategis di jalan sumatera bandung tem...   \n",
       "3      betapa bahagia nya diri ini saat unboxing pake...   \n",
       "4      duh jadi mahasiswa jangan sombong dong kasih k...   \n",
       "...                                                  ...   \n",
       "10995                                       tidak kecewa   \n",
       "10996  enak rasa masakan nya apalagi kepiting yang me...   \n",
       "10997        hormati partai partai yang telah berkoalisi   \n",
       "10998  pagi pagi di tol pasteur sudah macet parah bik...   \n",
       "10999  meskipun sering belanja ke yogya di riau junct...   \n",
       "\n",
       "                                          clean stopword  \n",
       "0      warung dimiliki pengusaha pabrik puluhan terke...  \n",
       "1      mohon ulama lurus k212 mmbri hujjah partai diw...  \n",
       "2      lokasi strategis jalan sumatera bandung nyaman...  \n",
       "3      betapa bahagia unboxing paket barang bagus men...  \n",
       "4      duh mahasiswa sombong kasih kartu kuning belaj...  \n",
       "...                                                  ...  \n",
       "10995                                       tidak kecewa  \n",
       "10996  enak masakan kepiting menyenangkan memilih kep...  \n",
       "10997                   hormati partai partai berkoalisi  \n",
       "10998    pagi pagi tol pasteur macet parah bikin jengkel  \n",
       "10999  belanja yogya riau junction kali lihat foodlif...  \n",
       "\n",
       "[11000 rows x 4 columns]"
      ]
     },
     "execution_count": 2,
     "metadata": {},
     "output_type": "execute_result"
    }
   ],
   "source": [
    "# Read cleansing result\n",
    "df = pd.read_csv(\n",
    "    \"..\\csv_data\\cleaned_text.csv\",\n",
    "    sep=\"\\t\",\n",
    ")\n",
    "df = df.drop('Unnamed: 0', axis=1)\n",
    "df"
   ]
  },
  {
   "cell_type": "code",
   "execution_count": 3,
   "id": "c7dd056a-c457-42ab-965b-1e4f11b38274",
   "metadata": {
    "tags": []
   },
   "outputs": [
    {
     "data": {
      "text/plain": [
       "(11000, 4)"
      ]
     },
     "execution_count": 3,
     "metadata": {},
     "output_type": "execute_result"
    }
   ],
   "source": [
    "# Check dataset\n",
    "df.shape"
   ]
  },
  {
   "cell_type": "code",
   "execution_count": 4,
   "id": "7e16ab9e-3c43-4dcb-b399-e0b1a4f48ce8",
   "metadata": {
    "tags": []
   },
   "outputs": [
    {
     "data": {
      "text/plain": [
       "sentiment\n",
       "positive    6416\n",
       "negative    3436\n",
       "neutral     1148\n",
       "Name: count, dtype: int64"
      ]
     },
     "execution_count": 4,
     "metadata": {},
     "output_type": "execute_result"
    }
   ],
   "source": [
    "# Check data volumes for each sentiment\n",
    "df.sentiment.value_counts()"
   ]
  },
  {
   "cell_type": "markdown",
   "id": "05efe8fe-1b5f-46d5-b4db-40dea69753c0",
   "metadata": {},
   "source": [
    "## Modelling Process"
   ]
  },
  {
   "cell_type": "markdown",
   "id": "908dee58-70d4-45c4-bd3f-743e7bb4d0c5",
   "metadata": {},
   "source": [
    "### Convert text data and sentiment into list"
   ]
  },
  {
   "cell_type": "code",
   "execution_count": 6,
   "id": "1ec18404-15d8-43f8-959c-2822121ec49d",
   "metadata": {
    "tags": []
   },
   "outputs": [],
   "source": [
    "# Convert text data\n",
    "neg = df['clean text'].loc[df['sentiment'] == 'negative'].tolist()\n",
    "neu = df['clean text'].loc[df['sentiment'] == 'neutral'].tolist()\n",
    "pos = df['clean text'].loc[df['sentiment'] == 'positive'].tolist()"
   ]
  },
  {
   "cell_type": "code",
   "execution_count": 8,
   "id": "946f8793-6a88-44dc-80cd-ad2e1079a6c7",
   "metadata": {
    "tags": []
   },
   "outputs": [],
   "source": [
    "# Convert sentiment\n",
    "neg_label = df['sentiment'].loc[df['sentiment'] == 'negative'].tolist()\n",
    "neu_label = df['sentiment'].loc[df['sentiment'] == 'neutral'].tolist()\n",
    "pos_label = df['sentiment'].loc[df['sentiment'] == 'positive'].tolist()"
   ]
  },
  {
   "cell_type": "code",
   "execution_count": 9,
   "id": "cee37049-2b37-4eaf-a802-949bbe7881a8",
   "metadata": {
    "tags": []
   },
   "outputs": [
    {
     "name": "stdout",
     "output_type": "stream",
     "text": [
      "Pos: 6416, Neu: 1148, Neg: 3436\n",
      "Total Data: 11000\n"
     ]
    }
   ],
   "source": [
    "# Check data\n",
    "total_data = pos + neu + neg\n",
    "labels =pos_label + neu_label + neg_label\n",
    "print(\"Pos: %s, Neu: %s, Neg: %s\" % (len(pos), len(neu), len(neg)))\n",
    "print(\"Total Data: %s\" % len(total_data))"
   ]
  },
  {
   "cell_type": "markdown",
   "id": "457e1bcf-8b0f-4e5e-a0cb-a7a224291e58",
   "metadata": {},
   "source": [
    "### Tokenize text data"
   ]
  },
  {
   "cell_type": "code",
   "execution_count": 10,
   "id": "97c9e431-e1fa-487b-9da8-daa067666c8a",
   "metadata": {
    "tags": []
   },
   "outputs": [
    {
     "name": "stdout",
     "output_type": "stream",
     "text": [
      "tokenizer.pickle has created\n"
     ]
    }
   ],
   "source": [
    "import pickle\n",
    "from tensorflow.keras.preprocessing.text import Tokenizer\n",
    "from tensorflow.keras.preprocessing.sequence import pad_sequences\n",
    "from collections import defaultdict\n",
    "\n",
    "max_features = 100000\n",
    "tokenizer = Tokenizer(num_words=max_features, split= ' ', lower=True)\n",
    "tokenizer.fit_on_texts(total_data)\n",
    "with open('tokenizer.pickle', 'wb') as handle:\n",
    "    pickle.dump(tokenizer, handle, protocol = pickle.HIGHEST_PROTOCOL)\n",
    "    print(\"tokenizer.pickle has created\")\n",
    "    \n",
    "X = tokenizer.texts_to_sequences(total_data)\n",
    "\n",
    "vocab_size = len(tokenizer.word_index)\n",
    "maxlen = max(len(x) for x in X)"
   ]
  },
  {
   "cell_type": "code",
   "execution_count": 11,
   "id": "c576fda1-a310-4fc9-96cb-60985c19e81e",
   "metadata": {
    "tags": []
   },
   "outputs": [
    {
     "name": "stdout",
     "output_type": "stream",
     "text": [
      "x_pad_sequences.pickle has created\n"
     ]
    }
   ],
   "source": [
    "X = pad_sequences(X)\n",
    "with open('x_pad_sequences.pickle', 'wb',) as handle:\n",
    "    pickle.dump(X, handle, protocol=pickle.HIGHEST_PROTOCOL)\n",
    "    print(\"x_pad_sequences.pickle has created\")"
   ]
  },
  {
   "cell_type": "markdown",
   "id": "0029716c-8525-4685-b9d9-f5d43158554f",
   "metadata": {},
   "source": [
    "### Convert sentiment data"
   ]
  },
  {
   "cell_type": "code",
   "execution_count": 12,
   "id": "a65d46ab-ae9f-49bf-a3f8-870b9c9e85ed",
   "metadata": {
    "tags": []
   },
   "outputs": [
    {
     "name": "stdout",
     "output_type": "stream",
     "text": [
      "y_labels.pickle has created!\n"
     ]
    }
   ],
   "source": [
    "Y = pd.get_dummies(labels)\n",
    "Y = Y.values\n",
    "\n",
    "with open('y_labels.pickle', 'wb') as handle:\n",
    "    pickle.dump(Y, handle, protocol=pickle.HIGHEST_PROTOCOL)\n",
    "    print(\"y_labels.pickle has created!\")"
   ]
  },
  {
   "cell_type": "markdown",
   "id": "7aad0217-5a68-401c-99fc-2fea870a2aba",
   "metadata": {},
   "source": [
    "### Split into train and test data"
   ]
  },
  {
   "cell_type": "code",
   "execution_count": 13,
   "id": "6a3e6f59-4bcc-4067-b83a-de5cef582210",
   "metadata": {
    "tags": []
   },
   "outputs": [],
   "source": [
    "from sklearn.model_selection import train_test_split\n",
    "\n",
    "file = open(\"x_pad_sequences.pickle\", 'rb')\n",
    "X = pickle.load(file)\n",
    "file.close()\n",
    "\n",
    "file = open(\"y_labels.pickle\", 'rb')\n",
    "Y = pickle.load(file)\n",
    "file.close()\n",
    "X_train, X_test, y_train, y_test = train_test_split(X, Y, test_size=0.2, random_state=1)"
   ]
  },
  {
   "cell_type": "markdown",
   "id": "bef68e1a-83aa-4298-963a-9e819803d5cd",
   "metadata": {},
   "source": [
    "### LSTM modelling"
   ]
  },
  {
   "cell_type": "code",
   "execution_count": 14,
   "id": "81a9c03f-3397-4c29-be84-4bf87a8b9a77",
   "metadata": {
    "tags": []
   },
   "outputs": [],
   "source": [
    "# Import tensorflow library\n",
    "from tensorflow.keras import layers\n",
    "from tensorflow.keras.models import Sequential\n",
    "from tensorflow.keras.layers import Dense, Embedding, LSTM, SpatialDropout1D, SimpleRNN, Activation\n",
    "from tensorflow.keras import optimizers\n",
    "from tensorflow.keras.callbacks import EarlyStopping, TensorBoard\n",
    "from tensorflow.keras.layers import Flatten\n",
    "from tensorflow.keras import backend as K"
   ]
  },
  {
   "cell_type": "code",
   "execution_count": 15,
   "id": "70d0e9db-48b0-4794-8c39-8e1172fbc3fd",
   "metadata": {
    "tags": []
   },
   "outputs": [
    {
     "name": "stdout",
     "output_type": "stream",
     "text": [
      "Model: \"sequential\"\n",
      "_________________________________________________________________\n",
      " Layer (type)                Output Shape              Param #   \n",
      "=================================================================\n",
      " embedding (Embedding)       (None, 96, 100)           10000000  \n",
      "                                                                 \n",
      " lstm (LSTM)                 (None, 64)                42240     \n",
      "                                                                 \n",
      " dense (Dense)               (None, 3)                 195       \n",
      "                                                                 \n",
      "=================================================================\n",
      "Total params: 10042435 (38.31 MB)\n",
      "Trainable params: 10042435 (38.31 MB)\n",
      "Non-trainable params: 0 (0.00 Byte)\n",
      "_________________________________________________________________\n",
      "None\n",
      "Epoch 1/10\n",
      "880/880 [==============================] - 104s 116ms/step - loss: 0.4643 - accuracy: 0.8168 - val_loss: 0.3490 - val_accuracy: 0.8714\n",
      "Epoch 2/10\n",
      "880/880 [==============================] - 100s 114ms/step - loss: 0.2007 - accuracy: 0.9257 - val_loss: 0.3386 - val_accuracy: 0.8755\n",
      "Epoch 3/10\n",
      "880/880 [==============================] - 100s 114ms/step - loss: 0.1074 - accuracy: 0.9598 - val_loss: 0.3900 - val_accuracy: 0.8664\n",
      "Epoch 3: early stopping\n"
     ]
    }
   ],
   "source": [
    "embed_dim = 100\n",
    "units = 64\n",
    "\n",
    "model = Sequential()\n",
    "model.add(Embedding(max_features, embed_dim, input_length=X.shape[1]))\n",
    "model.add(LSTM(units, dropout=0.2))\n",
    "model.add(Dense(3,activation='softmax'))\n",
    "model.compile(loss = 'binary_crossentropy', optimizer = 'adam', metrics = ['accuracy'])\n",
    "print(model.summary())\n",
    "\n",
    "adam = optimizers.Adam(learning_rate = 0.001)\n",
    "model.compile(loss = 'categorical_crossentropy', optimizer= adam, metrics = ['accuracy'])\n",
    "\n",
    "es = EarlyStopping(monitor='val_loss', mode='min', verbose=1)\n",
    "history = model.fit(X_train, y_train, epochs=10, batch_size=10, validation_data=(X_test, y_test), verbose=1, callbacks=[es])"
   ]
  },
  {
   "cell_type": "code",
   "execution_count": 16,
   "id": "95d663fa-0974-4b73-bba1-a38a55454c39",
   "metadata": {
    "tags": []
   },
   "outputs": [
    {
     "data": {
      "text/plain": [
       "(11000, 96)"
      ]
     },
     "execution_count": 16,
     "metadata": {},
     "output_type": "execute_result"
    }
   ],
   "source": [
    "X.shape"
   ]
  },
  {
   "cell_type": "markdown",
   "id": "28b0bc57-a92f-426a-9fcd-704857fc6190",
   "metadata": {},
   "source": [
    "### Model Testing"
   ]
  },
  {
   "cell_type": "code",
   "execution_count": 17,
   "id": "e24286a8-933e-4287-9820-bf8ee03a7cce",
   "metadata": {
    "tags": []
   },
   "outputs": [
    {
     "name": "stdout",
     "output_type": "stream",
     "text": [
      "69/69 [==============================] - 1s 14ms/step\n",
      "Testing selesai\n",
      "              precision    recall  f1-score   support\n",
      "\n",
      "           0       0.83      0.81      0.82       685\n",
      "           1       0.83      0.73      0.78       233\n",
      "           2       0.89      0.92      0.91      1282\n",
      "\n",
      "    accuracy                           0.87      2200\n",
      "   macro avg       0.85      0.82      0.83      2200\n",
      "weighted avg       0.87      0.87      0.87      2200\n",
      "\n"
     ]
    }
   ],
   "source": [
    "from sklearn import metrics\n",
    "\n",
    "predictions = model.predict(X_test)\n",
    "y_pred = predictions\n",
    "matrix_test = metrics.classification_report(y_test.argmax(axis=1), y_pred.argmax(axis=1))\n",
    "print(\"Testing selesai\")\n",
    "print(matrix_test)"
   ]
  },
  {
   "cell_type": "code",
   "execution_count": 18,
   "id": "d12450b7-21c8-4be6-b625-584abc3668ca",
   "metadata": {
    "tags": []
   },
   "outputs": [
    {
     "name": "stdout",
     "output_type": "stream",
     "text": [
      "Epoch 1/10\n",
      "880/880 [==============================] - 105s 117ms/step - loss: 0.4639 - accuracy: 0.8195 - val_loss: 0.3625 - val_accuracy: 0.8550\n",
      "Epoch 2/10\n",
      "880/880 [==============================] - 99s 113ms/step - loss: 0.2122 - accuracy: 0.9217 - val_loss: 0.3610 - val_accuracy: 0.8686\n",
      "Epoch 3/10\n",
      "880/880 [==============================] - 100s 114ms/step - loss: 0.1103 - accuracy: 0.9574 - val_loss: 0.4052 - val_accuracy: 0.8723\n",
      "69/69 [==============================] - 2s 17ms/step\n",
      "Training ke- 1\n",
      "              precision    recall  f1-score   support\n",
      "\n",
      "           0       0.80      0.84      0.82       685\n",
      "           1       0.87      0.76      0.81       233\n",
      "           2       0.91      0.91      0.91      1282\n",
      "\n",
      "    accuracy                           0.87      2200\n",
      "   macro avg       0.86      0.84      0.85      2200\n",
      "weighted avg       0.87      0.87      0.87      2200\n",
      "\n",
      "===================================================================\n",
      "Epoch 1/10\n",
      "880/880 [==============================] - 101s 113ms/step - loss: 0.4458 - accuracy: 0.8217 - val_loss: 0.3450 - val_accuracy: 0.8709\n",
      "Epoch 2/10\n",
      "880/880 [==============================] - 98s 112ms/step - loss: 0.1925 - accuracy: 0.9307 - val_loss: 0.3383 - val_accuracy: 0.8795\n",
      "Epoch 3/10\n",
      "880/880 [==============================] - 99s 112ms/step - loss: 0.1051 - accuracy: 0.9593 - val_loss: 0.4090 - val_accuracy: 0.8700\n",
      "69/69 [==============================] - 2s 18ms/step\n",
      "Training ke- 2\n",
      "              precision    recall  f1-score   support\n",
      "\n",
      "           0       0.83      0.81      0.82       685\n",
      "           1       0.78      0.78      0.78       233\n",
      "           2       0.91      0.92      0.91      1282\n",
      "\n",
      "    accuracy                           0.87      2200\n",
      "   macro avg       0.84      0.84      0.84      2200\n",
      "weighted avg       0.87      0.87      0.87      2200\n",
      "\n",
      "===================================================================\n",
      "Epoch 1/10\n",
      "880/880 [==============================] - 104s 116ms/step - loss: 0.4643 - accuracy: 0.8132 - val_loss: 0.3346 - val_accuracy: 0.8732\n",
      "Epoch 2/10\n",
      "880/880 [==============================] - 102s 116ms/step - loss: 0.1990 - accuracy: 0.9281 - val_loss: 0.3306 - val_accuracy: 0.8727\n",
      "Epoch 3/10\n",
      "880/880 [==============================] - 105s 119ms/step - loss: 0.1074 - accuracy: 0.9599 - val_loss: 0.4109 - val_accuracy: 0.8577\n",
      "69/69 [==============================] - 2s 20ms/step\n",
      "Training ke- 3\n",
      "              precision    recall  f1-score   support\n",
      "\n",
      "           0       0.83      0.77      0.80       685\n",
      "           1       0.84      0.70      0.76       233\n",
      "           2       0.87      0.93      0.90      1282\n",
      "\n",
      "    accuracy                           0.86      2200\n",
      "   macro avg       0.85      0.80      0.82      2200\n",
      "weighted avg       0.86      0.86      0.86      2200\n",
      "\n",
      "===================================================================\n",
      "Epoch 1/10\n",
      "880/880 [==============================] - 103s 115ms/step - loss: 0.4588 - accuracy: 0.8136 - val_loss: 0.3437 - val_accuracy: 0.8705\n",
      "Epoch 2/10\n",
      "880/880 [==============================] - 107s 121ms/step - loss: 0.1978 - accuracy: 0.9297 - val_loss: 0.3600 - val_accuracy: 0.8709\n",
      "69/69 [==============================] - 2s 25ms/step\n",
      "Training ke- 4\n",
      "              precision    recall  f1-score   support\n",
      "\n",
      "           0       0.80      0.86      0.83       685\n",
      "           1       0.79      0.81      0.80       233\n",
      "           2       0.93      0.89      0.91      1282\n",
      "\n",
      "    accuracy                           0.87      2200\n",
      "   macro avg       0.84      0.85      0.85      2200\n",
      "weighted avg       0.87      0.87      0.87      2200\n",
      "\n",
      "===================================================================\n",
      "Epoch 1/10\n",
      "880/880 [==============================] - 116s 128ms/step - loss: 0.4564 - accuracy: 0.8172 - val_loss: 0.3347 - val_accuracy: 0.8805\n",
      "Epoch 2/10\n",
      "880/880 [==============================] - 112s 128ms/step - loss: 0.2004 - accuracy: 0.9276 - val_loss: 0.3370 - val_accuracy: 0.8759\n",
      "69/69 [==============================] - 2s 23ms/step\n",
      "Training ke- 5\n",
      "              precision    recall  f1-score   support\n",
      "\n",
      "           0       0.82      0.85      0.83       685\n",
      "           1       0.85      0.77      0.81       233\n",
      "           2       0.91      0.91      0.91      1282\n",
      "\n",
      "    accuracy                           0.88      2200\n",
      "   macro avg       0.86      0.84      0.85      2200\n",
      "weighted avg       0.88      0.88      0.88      2200\n",
      "\n",
      "===================================================================\n",
      "\n",
      "\n",
      "\n",
      "Average accuracy:  0.8693636363636363\n"
     ]
    }
   ],
   "source": [
    "# Cross validation\n",
    "from sklearn.metrics import classification_report\n",
    "from sklearn.metrics import accuracy_score\n",
    "from sklearn.model_selection import KFold\n",
    "\n",
    "kf = KFold(n_splits=5, random_state=42, shuffle=True)\n",
    "\n",
    "accuracies = []\n",
    "\n",
    "y = Y\n",
    "\n",
    "embed_dim = 100\n",
    "units = 64\n",
    "\n",
    "for iteration, data in enumerate(kf.split(X), start=1):\n",
    "\n",
    "    data_train   = X[data[0]]\n",
    "    target_train = y[data[0]]\n",
    "    \n",
    "    data_test    = X[data[1]]\n",
    "    target_test  = y[data[1]]\n",
    "    \n",
    "    model = Sequential()\n",
    "    model.add(Embedding(max_features, embed_dim, input_length=X.shape[1]))\n",
    "    model.add(LSTM(units, dropout=0.2))\n",
    "    model.add(Dense(3,activation='softmax'))\n",
    "    model.compile(loss = 'binary_crossentropy', optimizer = 'adam', metrics = ['accuracy'])\n",
    "    \n",
    "    adam = optimizers.Adam(learning_rate = 0.001)\n",
    "    model.compile(loss = 'categorical_crossentropy', optimizer= adam, metrics = ['accuracy'])\n",
    "    \n",
    "    #verbose untuk menghilangkan langkah-langkah seperti memunculkan epoch sehingga untuk menghilangkannya atau menyimbunyikannya dapat diset menjadi 0\n",
    "    es = EarlyStopping(monitor='val_loss', mode='min', verbose=0)\n",
    "    history = model.fit(X_train, y_train, epochs=10, batch_size=10, validation_data=(X_test, y_test), verbose=1, callbacks=[es])\n",
    "    \n",
    "    predictions = model.predict(X_test)\n",
    "    y_pred = predictions\n",
    "    \n",
    "    accuracy = accuracy_score(y_test.argmax(axis=1), y_pred.argmax(axis=1))\n",
    "    \n",
    "    print(\"Training ke-\", iteration)\n",
    "    print(classification_report(y_test.argmax(axis=1), y_pred.argmax(axis=1)))\n",
    "    print(\"===================================================================\")\n",
    "\n",
    "    accuracies.append(accuracy)\n",
    "    \n",
    "average_accuracy = np.mean(accuracies)\n",
    "    \n",
    "print()\n",
    "print()\n",
    "print()\n",
    "print(\"Average accuracy: \", average_accuracy)"
   ]
  },
  {
   "cell_type": "markdown",
   "id": "1d811d13-a64f-473a-be14-b6daae6f25c7",
   "metadata": {},
   "source": [
    "### Save Model"
   ]
  },
  {
   "cell_type": "code",
   "execution_count": 20,
   "id": "8f6c0766-b480-4727-b2d2-6239d358fa3f",
   "metadata": {
    "tags": []
   },
   "outputs": [
    {
     "name": "stderr",
     "output_type": "stream",
     "text": [
      "C:\\Users\\Irin\\AppData\\Local\\Programs\\Python\\Python310\\lib\\site-packages\\keras\\src\\engine\\training.py:3000: UserWarning: You are saving your model as an HDF5 file via `model.save()`. This file format is considered legacy. We recommend using instead the native Keras format, e.g. `model.save('my_model.keras')`.\n",
      "  saving_api.save_model(\n"
     ]
    },
    {
     "name": "stdout",
     "output_type": "stream",
     "text": [
      "Model has created!\n"
     ]
    }
   ],
   "source": [
    "model.save('model_lstm.h5')\n",
    "print(\"Model has created!\")"
   ]
  },
  {
   "cell_type": "markdown",
   "id": "180eaca5-5cd5-42da-9baa-eda4a5dd78cf",
   "metadata": {
    "tags": []
   },
   "source": [
    "## Check training and validation accuracy"
   ]
  },
  {
   "cell_type": "code",
   "execution_count": 19,
   "id": "7930b307-d2cc-4740-900c-d2ec8a208d5c",
   "metadata": {
    "tags": []
   },
   "outputs": [
    {
     "data": {
      "image/png": "[encoded data removed]",
      "text/plain": [
       "<Figure size 1200x500 with 2 Axes>"
      ]
     },
     "metadata": {},
     "output_type": "display_data"
    }
   ],
   "source": [
    "plt.style.use('ggplot')\n",
    "\n",
    "def plot_history(history):\n",
    "    acc = history.history['accuracy']\n",
    "    val_acc = history.history['val_accuracy']\n",
    "    loss = history.history['loss']\n",
    "    val_loss = history.history['val_loss']\n",
    "    x = range(1, len(acc) + 1)\n",
    "    \n",
    "    plt.figure(figsize=(12, 5))\n",
    "    plt.subplot(1, 2, 1)\n",
    "    plt.plot(x, acc, 'b', label='Training acc')\n",
    "    plt.plot(x, val_acc, 'r', label='Validation acc')\n",
    "    plt.title('Training and validation accuracy')\n",
    "    plt.legend()\n",
    "    plt.subplot(1, 2, 2)\n",
    "    plt.plot(x, loss, 'b', label='Training loss')\n",
    "    plt.plot(x, val_loss, 'r', label='Validation loss')\n",
    "    plt.title('Training and validation loss')\n",
    "    plt.legend()\n",
    "    \n",
    "%matplotlib inline\n",
    "plot_history(history)"
   ]
  },
  {
   "cell_type": "markdown",
   "id": "645c3fed-5787-47b6-9fc4-34af162ffd21",
   "metadata": {
    "tags": []
   },
   "source": [
    "## Testing chosen model"
   ]
  },
  {
   "cell_type": "code",
   "execution_count": 21,
   "id": "d5abeb12-eef9-492c-8fd4-b6743a1ce85b",
   "metadata": {
    "tags": []
   },
   "outputs": [],
   "source": [
    "# Function for text cleansing\n",
    "def text_cleansing(text):\n",
    "    # lowercase\n",
    "    clean_text = str(text).lower()\n",
    "    # clean URL\n",
    "    clean_text = re.sub(r'(http\\S+|www\\S+)', '', clean_text).strip()\n",
    "    # clean emoticon byte\n",
    "    clean_text = clean_text.replace(\"\\\\\", \" \")\n",
    "    clean_text = re.sub(r'\\bx[0-9a-fA-F]{2,}', ' ', clean_text)\n",
    "    clean_text = re.sub(r'\\bn\\b', ' ', clean_text)\n",
    "    clean_text = re.sub('\\\\+', ' ', clean_text)\n",
    "    clean_text = re.sub('  +', ' ', clean_text)\n",
    "    # clean punctuations\n",
    "    clean_text = re.sub(r'[^a-zA-Z0-9\\s]', ' ', clean_text)\n",
    "    # clean whitespace\n",
    "    clean_text = ' '.join([j for j in clean_text.split()])\n",
    "    return clean_text"
   ]
  },
  {
   "cell_type": "code",
   "execution_count": 25,
   "id": "506f4079-464a-444d-b25c-762457702160",
   "metadata": {
    "tags": []
   },
   "outputs": [
    {
     "name": "stdout",
     "output_type": "stream",
     "text": [
      "1/1 [==============================] - 1s 666ms/step\n",
      "Text:   aku sedih sekali      \n",
      "Sentiment:  negative\n"
     ]
    }
   ],
   "source": [
    "from keras.models import load_model\n",
    "\n",
    "input_text = \"\"\"\n",
    "aku sedih sekali.....\n",
    "\"\"\"\n",
    "\n",
    "def cleansing(sent):\n",
    "    \n",
    "    string = sent.lower()\n",
    "    string = re.sub(r'[^a-zA-Z0-9]', ' ', string)\n",
    "    return string\n",
    "\n",
    "sentiment = ['negative', 'neutral', 'positive']\n",
    "\n",
    "text = [cleansing(input_text)]\n",
    "predicted = tokenizer.texts_to_sequences(text)\n",
    "guess = pad_sequences(predicted, maxlen=X.shape[1])\n",
    "\n",
    "model = load_model('model_lstm.h5')\n",
    "prediction = model.predict(guess)\n",
    "polarity = np.argmax(prediction[0])\n",
    "\n",
    "print(\"Text: \", text[0])\n",
    "print(\"Sentiment: \", sentiment[polarity])"
   ]
  }
 ],
 "metadata": {
  "kernelspec": {
   "display_name": "Python 3 (ipykernel)",
   "language": "python",
   "name": "python3"
  },
  "language_info": {
   "codemirror_mode": {
    "name": "ipython",
    "version": 3
   },
   "file_extension": ".py",
   "mimetype": "text/x-python",
   "name": "python",
   "nbconvert_exporter": "python",
   "pygments_lexer": "ipython3",
   "version": "3.10.6"
  }
 },
 "nbformat": 4,
 "nbformat_minor": 5
}
