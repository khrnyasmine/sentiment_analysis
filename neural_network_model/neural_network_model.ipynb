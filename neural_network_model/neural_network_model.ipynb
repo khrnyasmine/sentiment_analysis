{
 "cells": [
  {
   "cell_type": "markdown",
   "id": "f544789b-c694-4e71-979e-0352c248a228",
   "metadata": {},
   "source": [
    "# Neural Network Sentiment Analysis"
   ]
  },
  {
   "cell_type": "markdown",
   "id": "7dfc44ef-fb4a-4e98-a7dc-6c86674e58d3",
   "metadata": {},
   "source": [
    "### Preparing The Environment"
   ]
  },
  {
   "cell_type": "code",
   "execution_count": 36,
   "id": "ed50d7fd-13ec-42ce-bcd7-3ba2678760da",
   "metadata": {},
   "outputs": [],
   "source": [
    "# Import library\n",
    "import pandas as pd\n",
    "import numpy as np\n",
    "import re\n",
    "from matplotlib import pyplot as plt"
   ]
  },
  {
   "cell_type": "code",
   "execution_count": 2,
   "id": "55916449-0c9c-48ce-a3ee-aecc702c64ca",
   "metadata": {
    "tags": []
   },
   "outputs": [
    {
     "data": {
      "text/html": [
       "<div>\n",
       "<style scoped>\n",
       "    .dataframe tbody tr th:only-of-type {\n",
       "        vertical-align: middle;\n",
       "    }\n",
       "\n",
       "    .dataframe tbody tr th {\n",
       "        vertical-align: top;\n",
       "    }\n",
       "\n",
       "    .dataframe thead th {\n",
       "        text-align: right;\n",
       "    }\n",
       "</style>\n",
       "<table border=\"1\" class=\"dataframe\">\n",
       "  <thead>\n",
       "    <tr style=\"text-align: right;\">\n",
       "      <th></th>\n",
       "      <th>kalimat</th>\n",
       "      <th>sentiment</th>\n",
       "      <th>clean text</th>\n",
       "      <th>clean stopword</th>\n",
       "    </tr>\n",
       "  </thead>\n",
       "  <tbody>\n",
       "    <tr>\n",
       "      <th>0</th>\n",
       "      <td>warung ini dimiliki oleh pengusaha pabrik tahu...</td>\n",
       "      <td>positive</td>\n",
       "      <td>warung ini dimiliki oleh pengusaha pabrik tahu...</td>\n",
       "      <td>warung dimiliki pengusaha pabrik puluhan terke...</td>\n",
       "    </tr>\n",
       "    <tr>\n",
       "      <th>1</th>\n",
       "      <td>mohon ulama lurus dan k212 mmbri hujjah partai...</td>\n",
       "      <td>neutral</td>\n",
       "      <td>mohon ulama lurus dan k212 mmbri hujjah partai...</td>\n",
       "      <td>mohon ulama lurus k212 mmbri hujjah partai diw...</td>\n",
       "    </tr>\n",
       "    <tr>\n",
       "      <th>2</th>\n",
       "      <td>lokasi strategis di jalan sumatera bandung . t...</td>\n",
       "      <td>positive</td>\n",
       "      <td>lokasi strategis di jalan sumatera bandung tem...</td>\n",
       "      <td>lokasi strategis jalan sumatera bandung nyaman...</td>\n",
       "    </tr>\n",
       "    <tr>\n",
       "      <th>3</th>\n",
       "      <td>betapa bahagia nya diri ini saat unboxing pake...</td>\n",
       "      <td>positive</td>\n",
       "      <td>betapa bahagia nya diri ini saat unboxing pake...</td>\n",
       "      <td>betapa bahagia unboxing paket barang bagus men...</td>\n",
       "    </tr>\n",
       "    <tr>\n",
       "      <th>4</th>\n",
       "      <td>duh . jadi mahasiswa jangan sombong dong . kas...</td>\n",
       "      <td>negative</td>\n",
       "      <td>duh jadi mahasiswa jangan sombong dong kasih k...</td>\n",
       "      <td>duh mahasiswa sombong kasih kartu kuning belaj...</td>\n",
       "    </tr>\n",
       "    <tr>\n",
       "      <th>...</th>\n",
       "      <td>...</td>\n",
       "      <td>...</td>\n",
       "      <td>...</td>\n",
       "      <td>...</td>\n",
       "    </tr>\n",
       "    <tr>\n",
       "      <th>10995</th>\n",
       "      <td>tidak kecewa</td>\n",
       "      <td>positive</td>\n",
       "      <td>tidak kecewa</td>\n",
       "      <td>tidak kecewa</td>\n",
       "    </tr>\n",
       "    <tr>\n",
       "      <th>10996</th>\n",
       "      <td>enak rasa masakan nya apalagi kepiting yang me...</td>\n",
       "      <td>positive</td>\n",
       "      <td>enak rasa masakan nya apalagi kepiting yang me...</td>\n",
       "      <td>enak masakan kepiting menyenangkan memilih kep...</td>\n",
       "    </tr>\n",
       "    <tr>\n",
       "      <th>10997</th>\n",
       "      <td>hormati partai-partai yang telah berkoalisi</td>\n",
       "      <td>neutral</td>\n",
       "      <td>hormati partai partai yang telah berkoalisi</td>\n",
       "      <td>hormati partai partai berkoalisi</td>\n",
       "    </tr>\n",
       "    <tr>\n",
       "      <th>10998</th>\n",
       "      <td>pagi pagi di tol pasteur sudah macet parah , b...</td>\n",
       "      <td>negative</td>\n",
       "      <td>pagi pagi di tol pasteur sudah macet parah bik...</td>\n",
       "      <td>pagi pagi tol pasteur macet parah bikin jengkel</td>\n",
       "    </tr>\n",
       "    <tr>\n",
       "      <th>10999</th>\n",
       "      <td>meskipun sering belanja ke yogya di riau junct...</td>\n",
       "      <td>positive</td>\n",
       "      <td>meskipun sering belanja ke yogya di riau junct...</td>\n",
       "      <td>belanja yogya riau junction kali lihat foodlif...</td>\n",
       "    </tr>\n",
       "  </tbody>\n",
       "</table>\n",
       "<p>11000 rows × 4 columns</p>\n",
       "</div>"
      ],
      "text/plain": [
       "                                                 kalimat sentiment  \\\n",
       "0      warung ini dimiliki oleh pengusaha pabrik tahu...  positive   \n",
       "1      mohon ulama lurus dan k212 mmbri hujjah partai...   neutral   \n",
       "2      lokasi strategis di jalan sumatera bandung . t...  positive   \n",
       "3      betapa bahagia nya diri ini saat unboxing pake...  positive   \n",
       "4      duh . jadi mahasiswa jangan sombong dong . kas...  negative   \n",
       "...                                                  ...       ...   \n",
       "10995                                       tidak kecewa  positive   \n",
       "10996  enak rasa masakan nya apalagi kepiting yang me...  positive   \n",
       "10997        hormati partai-partai yang telah berkoalisi   neutral   \n",
       "10998  pagi pagi di tol pasteur sudah macet parah , b...  negative   \n",
       "10999  meskipun sering belanja ke yogya di riau junct...  positive   \n",
       "\n",
       "                                              clean text  \\\n",
       "0      warung ini dimiliki oleh pengusaha pabrik tahu...   \n",
       "1      mohon ulama lurus dan k212 mmbri hujjah partai...   \n",
       "2      lokasi strategis di jalan sumatera bandung tem...   \n",
       "3      betapa bahagia nya diri ini saat unboxing pake...   \n",
       "4      duh jadi mahasiswa jangan sombong dong kasih k...   \n",
       "...                                                  ...   \n",
       "10995                                       tidak kecewa   \n",
       "10996  enak rasa masakan nya apalagi kepiting yang me...   \n",
       "10997        hormati partai partai yang telah berkoalisi   \n",
       "10998  pagi pagi di tol pasteur sudah macet parah bik...   \n",
       "10999  meskipun sering belanja ke yogya di riau junct...   \n",
       "\n",
       "                                          clean stopword  \n",
       "0      warung dimiliki pengusaha pabrik puluhan terke...  \n",
       "1      mohon ulama lurus k212 mmbri hujjah partai diw...  \n",
       "2      lokasi strategis jalan sumatera bandung nyaman...  \n",
       "3      betapa bahagia unboxing paket barang bagus men...  \n",
       "4      duh mahasiswa sombong kasih kartu kuning belaj...  \n",
       "...                                                  ...  \n",
       "10995                                       tidak kecewa  \n",
       "10996  enak masakan kepiting menyenangkan memilih kep...  \n",
       "10997                   hormati partai partai berkoalisi  \n",
       "10998    pagi pagi tol pasteur macet parah bikin jengkel  \n",
       "10999  belanja yogya riau junction kali lihat foodlif...  \n",
       "\n",
       "[11000 rows x 4 columns]"
      ]
     },
     "execution_count": 2,
     "metadata": {},
     "output_type": "execute_result"
    }
   ],
   "source": [
    "# Read cleansing result\n",
    "df = pd.read_csv(\n",
    "    \"..\\csv_data\\cleaned_text.csv\",\n",
    "    sep=\"\\t\",\n",
    ")\n",
    "df = df.drop('Unnamed: 0', axis=1)\n",
    "df"
   ]
  },
  {
   "cell_type": "code",
   "execution_count": 3,
   "id": "f0359b33-a556-489e-b33f-61ed9e88327f",
   "metadata": {},
   "outputs": [
    {
     "data": {
      "text/plain": [
       "(11000, 4)"
      ]
     },
     "execution_count": 3,
     "metadata": {},
     "output_type": "execute_result"
    }
   ],
   "source": [
    "# Check dataset\n",
    "df.shape"
   ]
  },
  {
   "cell_type": "code",
   "execution_count": 4,
   "id": "dbb35351-de7b-41a1-b610-8285872d124b",
   "metadata": {},
   "outputs": [
    {
     "data": {
      "text/plain": [
       "sentiment\n",
       "positive    6416\n",
       "negative    3436\n",
       "neutral     1148\n",
       "Name: count, dtype: int64"
      ]
     },
     "execution_count": 4,
     "metadata": {},
     "output_type": "execute_result"
    }
   ],
   "source": [
    "# Check data volumes for each sentiment\n",
    "df.sentiment.value_counts()"
   ]
  },
  {
   "cell_type": "markdown",
   "id": "c5a7244c-2e5c-40bc-a941-d03d89fca9c0",
   "metadata": {},
   "source": [
    "## Try 1: Cleaned Text"
   ]
  },
  {
   "cell_type": "markdown",
   "id": "36735329-4682-4516-9d7a-f2b8e8c46643",
   "metadata": {
    "tags": []
   },
   "source": [
    "### Feature Extractions"
   ]
  },
  {
   "cell_type": "code",
   "execution_count": 5,
   "id": "932c515c-307c-43b7-94f1-85d29be8481c",
   "metadata": {
    "tags": []
   },
   "outputs": [],
   "source": [
    "# Convert column to list\n",
    "data_preprocessed = df['clean text'].tolist()"
   ]
  },
  {
   "cell_type": "code",
   "execution_count": 6,
   "id": "74b2867a-a0a6-42f0-87f7-d84be0ed6843",
   "metadata": {
    "tags": []
   },
   "outputs": [
    {
     "name": "stdout",
     "output_type": "stream",
     "text": [
      "Feature Extraction done!\n"
     ]
    }
   ],
   "source": [
    "# Import CountVectorizer\n",
    "from sklearn.feature_extraction.text import CountVectorizer\n",
    "\n",
    "count_vect = CountVectorizer()\n",
    "count_vect.fit(data_preprocessed)\n",
    "\n",
    "X = count_vect.transform(data_preprocessed)\n",
    "print(\"Feature Extraction done!\")"
   ]
  },
  {
   "cell_type": "code",
   "execution_count": 7,
   "id": "67e7f030-9ced-4e0b-b329-c54c766fb38b",
   "metadata": {
    "tags": []
   },
   "outputs": [],
   "source": [
    "# Save feature extractions result\n",
    "import pickle\n",
    "\n",
    "pickle.dump(count_vect, open(\"feature.p\", \"wb\"))"
   ]
  },
  {
   "cell_type": "markdown",
   "id": "73cddc2b-82c9-4791-91e0-6df3f049f3c2",
   "metadata": {
    "tags": []
   },
   "source": [
    "### Split Data into Train and Test Set"
   ]
  },
  {
   "cell_type": "code",
   "execution_count": 8,
   "id": "54776a7b-c523-47f0-9f45-e60086225e08",
   "metadata": {},
   "outputs": [
    {
     "data": {
      "text/plain": [
       "0        positive\n",
       "1         neutral\n",
       "2        positive\n",
       "3        positive\n",
       "4        negative\n",
       "           ...   \n",
       "10995    positive\n",
       "10996    positive\n",
       "10997     neutral\n",
       "10998    negative\n",
       "10999    positive\n",
       "Name: sentiment, Length: 11000, dtype: object"
      ]
     },
     "execution_count": 8,
     "metadata": {},
     "output_type": "execute_result"
    }
   ],
   "source": [
    "# Get sentiment column\n",
    "classes = df['sentiment']\n",
    "classes"
   ]
  },
  {
   "cell_type": "code",
   "execution_count": 9,
   "id": "eeec8389-e228-46c3-8ff1-9d7ac7ea93e8",
   "metadata": {},
   "outputs": [],
   "source": [
    "# Split dataset into training and test data\n",
    "from sklearn.model_selection import train_test_split\n",
    "\n",
    "X_train, X_test, y_train, y_test = train_test_split(X, classes, test_size = 0.2)"
   ]
  },
  {
   "cell_type": "markdown",
   "id": "187837fb-f211-489d-8c55-e55549a7ab97",
   "metadata": {},
   "source": [
    "### Model Training"
   ]
  },
  {
   "cell_type": "code",
   "execution_count": 10,
   "id": "b9491029-fbdb-44e7-9137-a890dc2562a3",
   "metadata": {
    "tags": []
   },
   "outputs": [
    {
     "name": "stdout",
     "output_type": "stream",
     "text": [
      "Train done!\n"
     ]
    }
   ],
   "source": [
    "# Model training with neural network method\n",
    "from sklearn.neural_network import MLPClassifier\n",
    "model = MLPClassifier()\n",
    "model.fit(X_train, y_train)\n",
    "\n",
    "print(\"Train done!\")"
   ]
  },
  {
   "cell_type": "code",
   "execution_count": 11,
   "id": "a4a3c39f-e019-4e00-b32d-ac3e964cfc11",
   "metadata": {
    "tags": []
   },
   "outputs": [],
   "source": [
    "# Save model result\n",
    "pickle.dump(model, open(\"model.p\", \"wb\"))"
   ]
  },
  {
   "cell_type": "markdown",
   "id": "703eb80a-e6de-44a8-9786-681b12b36c94",
   "metadata": {
    "tags": []
   },
   "source": [
    "### Model Testing"
   ]
  },
  {
   "cell_type": "code",
   "execution_count": 17,
   "id": "b013e194-5749-4160-975f-3d92d7bffba6",
   "metadata": {
    "tags": []
   },
   "outputs": [
    {
     "name": "stdout",
     "output_type": "stream",
     "text": [
      "Testing selesai\n",
      "              precision    recall  f1-score   support\n",
      "\n",
      "    negative       0.80      0.80      0.80       703\n",
      "     neutral       0.75      0.70      0.72       215\n",
      "    positive       0.88      0.90      0.89      1282\n",
      "\n",
      "    accuracy                           0.85      2200\n",
      "   macro avg       0.81      0.80      0.80      2200\n",
      "weighted avg       0.84      0.85      0.84      2200\n",
      "\n"
     ]
    }
   ],
   "source": [
    "# Check classification report\n",
    "from sklearn.metrics import classification_report\n",
    "\n",
    "test = model.predict(X_test)\n",
    "\n",
    "print(\"Testing selesai\")\n",
    "\n",
    "print(classification_report(y_test, test))"
   ]
  },
  {
   "cell_type": "code",
   "execution_count": 18,
   "id": "5f6893f4-2be7-463b-a410-55c7bfc3ca69",
   "metadata": {
    "tags": []
   },
   "outputs": [
    {
     "name": "stdout",
     "output_type": "stream",
     "text": [
      "Training ke- 1\n",
      "              precision    recall  f1-score   support\n",
      "\n",
      "    negative       0.78      0.79      0.79       680\n",
      "     neutral       0.76      0.64      0.70       239\n",
      "    positive       0.88      0.90      0.89      1281\n",
      "\n",
      "    accuracy                           0.84      2200\n",
      "   macro avg       0.81      0.78      0.79      2200\n",
      "weighted avg       0.84      0.84      0.84      2200\n",
      "\n",
      "==================================================\n",
      "Training ke- 2\n",
      "              precision    recall  f1-score   support\n",
      "\n",
      "    negative       0.81      0.77      0.79       706\n",
      "     neutral       0.70      0.71      0.71       220\n",
      "    positive       0.88      0.91      0.89      1274\n",
      "\n",
      "    accuracy                           0.84      2200\n",
      "   macro avg       0.80      0.80      0.80      2200\n",
      "weighted avg       0.84      0.84      0.84      2200\n",
      "\n",
      "==================================================\n",
      "Training ke- 3\n",
      "              precision    recall  f1-score   support\n",
      "\n",
      "    negative       0.80      0.80      0.80       682\n",
      "     neutral       0.85      0.73      0.78       215\n",
      "    positive       0.89      0.91      0.90      1303\n",
      "\n",
      "    accuracy                           0.86      2200\n",
      "   macro avg       0.85      0.81      0.83      2200\n",
      "weighted avg       0.86      0.86      0.86      2200\n",
      "\n",
      "==================================================\n",
      "Training ke- 4\n",
      "              precision    recall  f1-score   support\n",
      "\n",
      "    negative       0.78      0.79      0.78       698\n",
      "     neutral       0.78      0.66      0.71       229\n",
      "    positive       0.88      0.89      0.88      1273\n",
      "\n",
      "    accuracy                           0.84      2200\n",
      "   macro avg       0.81      0.78      0.79      2200\n",
      "weighted avg       0.83      0.84      0.83      2200\n",
      "\n",
      "==================================================\n",
      "Training ke- 5\n",
      "              precision    recall  f1-score   support\n",
      "\n",
      "    negative       0.76      0.81      0.79       670\n",
      "     neutral       0.79      0.65      0.71       245\n",
      "    positive       0.90      0.89      0.89      1285\n",
      "\n",
      "    accuracy                           0.84      2200\n",
      "   macro avg       0.81      0.79      0.80      2200\n",
      "weighted avg       0.84      0.84      0.84      2200\n",
      "\n",
      "==================================================\n",
      "\n",
      "\n",
      "\n",
      "Rata-rata Accuracy:  0.8428181818181819\n"
     ]
    }
   ],
   "source": [
    "# Cross validation\n",
    "from sklearn.neural_network import MLPClassifier\n",
    "from sklearn.metrics import classification_report\n",
    "from sklearn.metrics import accuracy_score\n",
    "from sklearn.model_selection import KFold\n",
    "\n",
    "kf = KFold(n_splits=5, random_state=42, shuffle=True)\n",
    "\n",
    "accuracies = []\n",
    "\n",
    "y = classes\n",
    "\n",
    "for iteration, data in enumerate(kf.split(X), start=1):\n",
    "    data_train = X[data[0]]\n",
    "    target_train = y[data[0]]\n",
    "    \n",
    "    data_test = X[data[1]]\n",
    "    target_test = y[data[1]]\n",
    "    \n",
    "    clf = MLPClassifier()\n",
    "    clf.fit(data_train, target_train)\n",
    "    \n",
    "    preds = clf.predict(data_test)\n",
    "    \n",
    "    accuracy = accuracy_score(target_test, preds)\n",
    "    \n",
    "    print(\"Training ke-\", iteration)\n",
    "    print(classification_report(target_test,preds))\n",
    "    print(\"==================================================\")\n",
    "    \n",
    "    accuracies.append(accuracy)\n",
    "    \n",
    "average_accuracy = np.mean(accuracies)\n",
    "\n",
    "print()\n",
    "print()\n",
    "print()\n",
    "print(\"Rata-rata Accuracy: \", average_accuracy)"
   ]
  },
  {
   "cell_type": "markdown",
   "id": "8c2c03f2-d5a3-49b4-9863-ee58732f511c",
   "metadata": {},
   "source": [
    "## Try 2: Cleaned Text (without removing stopwords)"
   ]
  },
  {
   "cell_type": "markdown",
   "id": "e61e8a16-c582-4072-ad99-2f5d5315c612",
   "metadata": {
    "tags": []
   },
   "source": [
    "### Feature Extractions"
   ]
  },
  {
   "cell_type": "code",
   "execution_count": 19,
   "id": "83acd882-0e3d-4d4e-a318-894f5520be92",
   "metadata": {
    "tags": []
   },
   "outputs": [],
   "source": [
    "# Convert column to list\n",
    "data_preprocessed_2 = df['clean text'].tolist()"
   ]
  },
  {
   "cell_type": "code",
   "execution_count": 20,
   "id": "860cf7b3-deed-4b69-906f-d6e30cf76e12",
   "metadata": {
    "tags": []
   },
   "outputs": [
    {
     "name": "stdout",
     "output_type": "stream",
     "text": [
      "Feature Extraction done!\n"
     ]
    }
   ],
   "source": [
    "# Vectorize\n",
    "count_vects = CountVectorizer()\n",
    "count_vects.fit(data_preprocessed_2)\n",
    "\n",
    "X = count_vects.transform(data_preprocessed_2)\n",
    "print(\"Feature Extraction done!\")"
   ]
  },
  {
   "cell_type": "code",
   "execution_count": 21,
   "id": "f9fb774e-0ba7-4501-997a-5b61aefdce70",
   "metadata": {
    "tags": []
   },
   "outputs": [],
   "source": [
    "# Save feature extractions result\n",
    "\n",
    "pickle.dump(count_vects, open(\"features.p\", \"wb\"))"
   ]
  },
  {
   "cell_type": "markdown",
   "id": "519b6ea9-4081-4c1c-9f94-65eb0b079d7d",
   "metadata": {
    "tags": []
   },
   "source": [
    "### Split Data into Train and Test Set"
   ]
  },
  {
   "cell_type": "code",
   "execution_count": 22,
   "id": "8b50a509-9b19-44bf-841e-5df23aa6bbc2",
   "metadata": {
    "tags": []
   },
   "outputs": [],
   "source": [
    "# Get sentiment column\n",
    "classes = df['sentiment']"
   ]
  },
  {
   "cell_type": "code",
   "execution_count": 23,
   "id": "1ced9c8c-92fe-4393-bcbf-89e98e5787bf",
   "metadata": {
    "tags": []
   },
   "outputs": [],
   "source": [
    "# Split dataset into training and test data\n",
    "from sklearn.model_selection import train_test_split\n",
    "\n",
    "X_train, X_test, y_train, y_test = train_test_split(X, classes, test_size = 0.2)"
   ]
  },
  {
   "cell_type": "markdown",
   "id": "22382852-40c8-423d-8902-b4184a80e17e",
   "metadata": {},
   "source": [
    "### Model Training"
   ]
  },
  {
   "cell_type": "code",
   "execution_count": 24,
   "id": "8d497067-e59f-4d55-9338-7dd400ab01b9",
   "metadata": {
    "tags": []
   },
   "outputs": [
    {
     "name": "stdout",
     "output_type": "stream",
     "text": [
      "Train done!\n"
     ]
    }
   ],
   "source": [
    "# Model training with neural network method\n",
    "\n",
    "models = MLPClassifier()\n",
    "models.fit(X_train, y_train)\n",
    "\n",
    "print(\"Train done!\")"
   ]
  },
  {
   "cell_type": "code",
   "execution_count": 25,
   "id": "814ce915-3c02-48e0-bb77-317fa1ec10b8",
   "metadata": {
    "tags": []
   },
   "outputs": [],
   "source": [
    "# Save model result\n",
    "pickle.dump(models, open(\"models.p\", \"wb\"))"
   ]
  },
  {
   "cell_type": "markdown",
   "id": "70d682af-b70a-4386-8532-203586d5c052",
   "metadata": {},
   "source": [
    "### Model Testing"
   ]
  },
  {
   "cell_type": "code",
   "execution_count": 26,
   "id": "89aa970f-89a8-418d-8fcc-e59e2253d4e6",
   "metadata": {
    "tags": []
   },
   "outputs": [
    {
     "name": "stdout",
     "output_type": "stream",
     "text": [
      "Testing selesai\n",
      "              precision    recall  f1-score   support\n",
      "\n",
      "    negative       0.79      0.81      0.80       682\n",
      "     neutral       0.74      0.68      0.71       225\n",
      "    positive       0.90      0.89      0.89      1293\n",
      "\n",
      "    accuracy                           0.85      2200\n",
      "   macro avg       0.81      0.79      0.80      2200\n",
      "weighted avg       0.85      0.85      0.85      2200\n",
      "\n"
     ]
    }
   ],
   "source": [
    "# Check classification report\n",
    "from sklearn.metrics import classification_report\n",
    "\n",
    "test = models.predict(X_test)\n",
    "\n",
    "print(\"Testing selesai\")\n",
    "\n",
    "print(classification_report(y_test, test))"
   ]
  },
  {
   "cell_type": "code",
   "execution_count": 27,
   "id": "1494c8ec-1cb3-497b-aee5-047414b7580c",
   "metadata": {
    "tags": []
   },
   "outputs": [
    {
     "name": "stdout",
     "output_type": "stream",
     "text": [
      "Training ke- 1\n",
      "              precision    recall  f1-score   support\n",
      "\n",
      "    negative       0.78      0.78      0.78       680\n",
      "     neutral       0.78      0.62      0.69       239\n",
      "    positive       0.87      0.91      0.89      1281\n",
      "\n",
      "    accuracy                           0.83      2200\n",
      "   macro avg       0.81      0.77      0.79      2200\n",
      "weighted avg       0.83      0.83      0.83      2200\n",
      "\n",
      "==================================================\n",
      "Training ke- 2\n",
      "              precision    recall  f1-score   support\n",
      "\n",
      "    negative       0.79      0.76      0.78       706\n",
      "     neutral       0.72      0.71      0.72       220\n",
      "    positive       0.88      0.90      0.89      1274\n",
      "\n",
      "    accuracy                           0.84      2200\n",
      "   macro avg       0.80      0.79      0.79      2200\n",
      "weighted avg       0.84      0.84      0.84      2200\n",
      "\n",
      "==================================================\n",
      "Training ke- 3\n",
      "              precision    recall  f1-score   support\n",
      "\n",
      "    negative       0.79      0.80      0.80       682\n",
      "     neutral       0.86      0.70      0.77       215\n",
      "    positive       0.89      0.91      0.90      1303\n",
      "\n",
      "    accuracy                           0.86      2200\n",
      "   macro avg       0.85      0.80      0.82      2200\n",
      "weighted avg       0.86      0.86      0.86      2200\n",
      "\n",
      "==================================================\n",
      "Training ke- 4\n",
      "              precision    recall  f1-score   support\n",
      "\n",
      "    negative       0.77      0.81      0.79       698\n",
      "     neutral       0.79      0.66      0.71       229\n",
      "    positive       0.89      0.89      0.89      1273\n",
      "\n",
      "    accuracy                           0.84      2200\n",
      "   macro avg       0.81      0.78      0.80      2200\n",
      "weighted avg       0.84      0.84      0.84      2200\n",
      "\n",
      "==================================================\n",
      "Training ke- 5\n",
      "              precision    recall  f1-score   support\n",
      "\n",
      "    negative       0.76      0.81      0.79       670\n",
      "     neutral       0.79      0.66      0.72       245\n",
      "    positive       0.90      0.89      0.89      1285\n",
      "\n",
      "    accuracy                           0.84      2200\n",
      "   macro avg       0.81      0.79      0.80      2200\n",
      "weighted avg       0.84      0.84      0.84      2200\n",
      "\n",
      "==================================================\n",
      "\n",
      "\n",
      "\n",
      "Rata-rata Accuracy:  0.842\n"
     ]
    }
   ],
   "source": [
    "# Cross validation\n",
    "\n",
    "kf = KFold(n_splits=5, random_state=42, shuffle=True)\n",
    "\n",
    "accuracies = []\n",
    "\n",
    "y = classes\n",
    "\n",
    "for iteration, data in enumerate(kf.split(X), start=1):\n",
    "    data_train = X[data[0]]\n",
    "    target_train = y[data[0]]\n",
    "    \n",
    "    data_test = X[data[1]]\n",
    "    target_test = y[data[1]]\n",
    "    \n",
    "    clf = MLPClassifier()\n",
    "    clf.fit(data_train, target_train)\n",
    "    \n",
    "    preds = clf.predict(data_test)\n",
    "    \n",
    "    accuracy = accuracy_score(target_test, preds)\n",
    "    \n",
    "    print(\"Training ke-\", iteration)\n",
    "    print(classification_report(target_test,preds))\n",
    "    print(\"==================================================\")\n",
    "    \n",
    "    accuracies.append(accuracy)\n",
    "    \n",
    "average_accuracy = np.mean(accuracies)\n",
    "\n",
    "print()\n",
    "print()\n",
    "print()\n",
    "print(\"Rata-rata Accuracy: \", average_accuracy)"
   ]
  },
  {
   "cell_type": "markdown",
   "id": "7fbd97d2-cfda-4819-b3d7-f5b346f56867",
   "metadata": {
    "tags": []
   },
   "source": [
    "#### <b>Result:</b> Not removing stopwords yields better result."
   ]
  },
  {
   "cell_type": "markdown",
   "id": "3092ae0b-b9b1-4a71-abc1-460fe6b3aa72",
   "metadata": {
    "tags": []
   },
   "source": [
    "## Testing chosen model"
   ]
  },
  {
   "cell_type": "code",
   "execution_count": 28,
   "id": "aa22831c-7345-4157-b3c1-6732155ff569",
   "metadata": {
    "tags": []
   },
   "outputs": [],
   "source": [
    "# Function for text cleansing\n",
    "def text_cleansing(text):\n",
    "    # lowercase\n",
    "    clean_text = str(text).lower()\n",
    "    # clean URL\n",
    "    clean_text = re.sub(r'(http\\S+|www\\S+)', '', clean_text).strip()\n",
    "    # clean emoticon byte\n",
    "    clean_text = clean_text.replace(\"\\\\\", \" \")\n",
    "    clean_text = re.sub(r'\\bx[0-9a-fA-F]{2,}', ' ', clean_text)\n",
    "    clean_text = re.sub(r'\\bn\\b', ' ', clean_text)\n",
    "    clean_text = re.sub('\\\\+', ' ', clean_text)\n",
    "    clean_text = re.sub('  +', ' ', clean_text)\n",
    "    # clean punctuations\n",
    "    clean_text = re.sub(r'[^a-zA-Z0-9\\s]', ' ', clean_text)\n",
    "    # clean whitespace\n",
    "    clean_text = ' '.join([j for j in clean_text.split()])\n",
    "    return clean_text"
   ]
  },
  {
   "cell_type": "code",
   "execution_count": 29,
   "id": "74c57022-f55a-4233-9ed1-4eedda40f9a1",
   "metadata": {
    "tags": []
   },
   "outputs": [],
   "source": [
    "# Open model\n",
    "with open(\"model.p\", \"rb\") as f:\n",
    "    lr = pickle.load(f)"
   ]
  },
  {
   "cell_type": "code",
   "execution_count": 30,
   "id": "8435eb06-8f65-4822-aba4-f19316caaaf6",
   "metadata": {
    "tags": []
   },
   "outputs": [],
   "source": [
    "# Open feature extractions\n",
    "vect = pickle.load(open(\"feature.p\", 'rb'))"
   ]
  },
  {
   "cell_type": "code",
   "execution_count": 32,
   "id": "65e58cab-290c-4169-b2ba-38c6b18f5bbb",
   "metadata": {
    "tags": []
   },
   "outputs": [
    {
     "name": "stdout",
     "output_type": "stream",
     "text": [
      "Sentiment:\n",
      "\n",
      "negative\n"
     ]
    }
   ],
   "source": [
    "# Model testing\n",
    "original_text = '''\n",
    "aku sedih sekali\n",
    "'''\n",
    "\n",
    "clean_text = text_cleansing(original_text)\n",
    "text_vect = vect.transform([clean_text])\n",
    "sentiment_result = lr.predict(text_vect)[0]\n",
    "print(\"Sentiment:\")\n",
    "print()\n",
    "print(sentiment_result)"
   ]
  },
  {
   "cell_type": "markdown",
   "id": "d59f96ae-0849-4b6b-94d7-a3f82376f002",
   "metadata": {
    "tags": []
   },
   "source": [
    "## Confusion Matrix"
   ]
  },
  {
   "cell_type": "code",
   "execution_count": 34,
   "id": "bfbaa319-86f7-4c92-aa10-3827f0ad3b47",
   "metadata": {
    "tags": []
   },
   "outputs": [
    {
     "data": {
      "text/plain": [
       "array([[ 555,   25,  102],\n",
       "       [  41,  152,   32],\n",
       "       [ 111,   29, 1153]], dtype=int64)"
      ]
     },
     "execution_count": 34,
     "metadata": {},
     "output_type": "execute_result"
    }
   ],
   "source": [
    "# Confusion matrix\n",
    "from sklearn.metrics import confusion_matrix, ConfusionMatrixDisplay\n",
    "\n",
    "conf_mat = confusion_matrix(y_test, test)\n",
    "conf_mat"
   ]
  },
  {
   "cell_type": "code",
   "execution_count": 37,
   "id": "43ad6aa9-565c-441c-b193-9aa7b107569d",
   "metadata": {
    "tags": []
   },
   "outputs": [
    {
     "data": {
      "image/png": "[encoded data removed]",
      "text/plain": [
       "<Figure size 640x480 with 1 Axes>"
      ]
     },
     "metadata": {},
     "output_type": "display_data"
    }
   ],
   "source": [
    "from mlxtend.plotting import plot_confusion_matrix\n",
    "plot_confusion_matrix(conf_mat)\n",
    "\n",
    "plt.show()"
   ]
  },
  {
   "cell_type": "code",
   "execution_count": 38,
   "id": "2e33b8f2-80be-416d-9752-c5f67e32ab2c",
   "metadata": {
    "tags": []
   },
   "outputs": [
    {
     "data": {
      "text/plain": [
       "sentiment\n",
       "positive    1293\n",
       "negative     682\n",
       "neutral      225\n",
       "Name: count, dtype: int64"
      ]
     },
     "execution_count": 38,
     "metadata": {},
     "output_type": "execute_result"
    }
   ],
   "source": [
    "# Actual result\n",
    "y_test.value_counts()"
   ]
  },
  {
   "cell_type": "code",
   "execution_count": 39,
   "id": "bbd8e3f4-67ef-4f76-8de6-03aac274046c",
   "metadata": {
    "tags": []
   },
   "outputs": [
    {
     "name": "stdout",
     "output_type": "stream",
     "text": [
      "[['negative' '707']\n",
      " ['neutral' '206']\n",
      " ['positive' '1287']]\n"
     ]
    }
   ],
   "source": [
    "# Predicted result\n",
    "unique, counts = np.unique(test, return_counts=True)\n",
    "\n",
    "print(np.asarray((unique, counts)).T)"
   ]
  }
 ],
 "metadata": {
  "kernelspec": {
   "display_name": "Python 3 (ipykernel)",
   "language": "python",
   "name": "python3"
  },
  "language_info": {
   "codemirror_mode": {
    "name": "ipython",
    "version": 3
   },
   "file_extension": ".py",
   "mimetype": "text/x-python",
   "name": "python",
   "nbconvert_exporter": "python",
   "pygments_lexer": "ipython3",
   "version": "3.10.6"
  }
 },
 "nbformat": 4,
 "nbformat_minor": 5
}
