{
 "cells": [
  {
   "cell_type": "markdown",
   "id": "205fd853-3e68-4749-a3f6-7ce635d18ed4",
   "metadata": {},
   "source": [
    "# Text Data Cleansing For Sentiment Analysis"
   ]
  },
  {
   "cell_type": "markdown",
   "id": "56bf0d12-d30d-48f7-8ed9-c9894566bab7",
   "metadata": {},
   "source": [
    "Before we create models for sentiment analysis, we need data for the basis of this analysis. This data contains large number of text data with its sentiment that has been identified before. To create a better model, we might need to preprocess this text data into a form that would work better in modelling."
   ]
  },
  {
   "cell_type": "markdown",
   "id": "0886ff05-33fb-43d4-957b-59375bebc770",
   "metadata": {},
   "source": [
    "## Preparing The Environment"
   ]
  },
  {
   "cell_type": "code",
   "execution_count": 2,
   "id": "17762df6-b4bf-4ec6-a7ff-0671a40bf8fd",
   "metadata": {
    "tags": []
   },
   "outputs": [],
   "source": [
    "# Import library\n",
    "import pandas as pd\n",
    "import re\n",
    "from Sastrawi.Stemmer.StemmerFactory import StemmerFactory"
   ]
  },
  {
   "cell_type": "code",
   "execution_count": 3,
   "id": "0710dee0-b304-4315-90b1-93e8a2b2bd84",
   "metadata": {
    "tags": []
   },
   "outputs": [
    {
     "data": {
      "text/html": [
       "<div>\n",
       "<style scoped>\n",
       "    .dataframe tbody tr th:only-of-type {\n",
       "        vertical-align: middle;\n",
       "    }\n",
       "\n",
       "    .dataframe tbody tr th {\n",
       "        vertical-align: top;\n",
       "    }\n",
       "\n",
       "    .dataframe thead th {\n",
       "        text-align: right;\n",
       "    }\n",
       "</style>\n",
       "<table border=\"1\" class=\"dataframe\">\n",
       "  <thead>\n",
       "    <tr style=\"text-align: right;\">\n",
       "      <th></th>\n",
       "      <th>kalimat</th>\n",
       "      <th>sentiment</th>\n",
       "    </tr>\n",
       "  </thead>\n",
       "  <tbody>\n",
       "    <tr>\n",
       "      <th>0</th>\n",
       "      <td>warung ini dimiliki oleh pengusaha pabrik tahu...</td>\n",
       "      <td>positive</td>\n",
       "    </tr>\n",
       "    <tr>\n",
       "      <th>1</th>\n",
       "      <td>mohon ulama lurus dan k212 mmbri hujjah partai...</td>\n",
       "      <td>neutral</td>\n",
       "    </tr>\n",
       "    <tr>\n",
       "      <th>2</th>\n",
       "      <td>lokasi strategis di jalan sumatera bandung . t...</td>\n",
       "      <td>positive</td>\n",
       "    </tr>\n",
       "    <tr>\n",
       "      <th>3</th>\n",
       "      <td>betapa bahagia nya diri ini saat unboxing pake...</td>\n",
       "      <td>positive</td>\n",
       "    </tr>\n",
       "    <tr>\n",
       "      <th>4</th>\n",
       "      <td>duh . jadi mahasiswa jangan sombong dong . kas...</td>\n",
       "      <td>negative</td>\n",
       "    </tr>\n",
       "    <tr>\n",
       "      <th>...</th>\n",
       "      <td>...</td>\n",
       "      <td>...</td>\n",
       "    </tr>\n",
       "    <tr>\n",
       "      <th>10995</th>\n",
       "      <td>tidak kecewa</td>\n",
       "      <td>positive</td>\n",
       "    </tr>\n",
       "    <tr>\n",
       "      <th>10996</th>\n",
       "      <td>enak rasa masakan nya apalagi kepiting yang me...</td>\n",
       "      <td>positive</td>\n",
       "    </tr>\n",
       "    <tr>\n",
       "      <th>10997</th>\n",
       "      <td>hormati partai-partai yang telah berkoalisi</td>\n",
       "      <td>neutral</td>\n",
       "    </tr>\n",
       "    <tr>\n",
       "      <th>10998</th>\n",
       "      <td>pagi pagi di tol pasteur sudah macet parah , b...</td>\n",
       "      <td>negative</td>\n",
       "    </tr>\n",
       "    <tr>\n",
       "      <th>10999</th>\n",
       "      <td>meskipun sering belanja ke yogya di riau junct...</td>\n",
       "      <td>positive</td>\n",
       "    </tr>\n",
       "  </tbody>\n",
       "</table>\n",
       "<p>11000 rows × 2 columns</p>\n",
       "</div>"
      ],
      "text/plain": [
       "                                                 kalimat sentiment\n",
       "0      warung ini dimiliki oleh pengusaha pabrik tahu...  positive\n",
       "1      mohon ulama lurus dan k212 mmbri hujjah partai...   neutral\n",
       "2      lokasi strategis di jalan sumatera bandung . t...  positive\n",
       "3      betapa bahagia nya diri ini saat unboxing pake...  positive\n",
       "4      duh . jadi mahasiswa jangan sombong dong . kas...  negative\n",
       "...                                                  ...       ...\n",
       "10995                                       tidak kecewa  positive\n",
       "10996  enak rasa masakan nya apalagi kepiting yang me...  positive\n",
       "10997        hormati partai-partai yang telah berkoalisi   neutral\n",
       "10998  pagi pagi di tol pasteur sudah macet parah , b...  negative\n",
       "10999  meskipun sering belanja ke yogya di riau junct...  positive\n",
       "\n",
       "[11000 rows x 2 columns]"
      ]
     },
     "execution_count": 3,
     "metadata": {},
     "output_type": "execute_result"
    }
   ],
   "source": [
    "# Import text data\n",
    "df = pd.read_csv(\n",
    "    \"csv_data/train_preprocess.txt\",\n",
    "    sep=\"\\t\",\n",
    "    names=[\"kalimat\", \"sentiment\"]\n",
    ")\n",
    "df"
   ]
  },
  {
   "cell_type": "code",
   "execution_count": 4,
   "id": "24bf090d-99cd-471b-9b62-cbfdd1526b40",
   "metadata": {
    "tags": []
   },
   "outputs": [],
   "source": [
    "# import additional data\n",
    "# kamus abusive\n",
    "abusive_data = pd.read_csv(\"csv_data/abusive.csv\")\n",
    "\n",
    "# kamus alay\n",
    "kamus_alay_data = pd.read_csv(\"csv_data/alay.csv\", encoding=\"latin-1\")\n",
    "kamus_alay_data.columns = ['alay', 'baku']\n",
    "kamus_alay_dict = dict(zip(kamus_alay_data['alay'], kamus_alay_data['baku']))\n",
    "\n",
    "# stop word indonesia\n",
    "stopword_id = pd.read_csv(\"csv_data/stopword.csv\")"
   ]
  },
  {
   "cell_type": "markdown",
   "id": "6e10f56c-1372-46c2-b853-c027b9f0e1bf",
   "metadata": {},
   "source": [
    "## Process Text Data"
   ]
  },
  {
   "cell_type": "markdown",
   "id": "84647786-4ea3-473e-ad5f-9f63c3199b58",
   "metadata": {
    "tags": []
   },
   "source": [
    "### Define function for string cleaning"
   ]
  },
  {
   "cell_type": "code",
   "execution_count": 9,
   "id": "ff81c145-9bc0-4f91-85d9-4817b4122dcc",
   "metadata": {},
   "outputs": [],
   "source": [
    "def text_cleansing(text):\n",
    "    # lowercase\n",
    "    clean_text = str(text).lower()\n",
    "    # clean URL\n",
    "    clean_text = re.sub(r'(http\\S+|www\\S+)', '', clean_text)\n",
    "    # clean punctuations\n",
    "    clean_text = re.sub(r'[^a-zA-Z0-9\\s]', ' ', clean_text)\n",
    "    # clean multiple whitespace\n",
    "    clean_text = ' '.join(clean_text.split())\n",
    "    return clean_text"
   ]
  },
  {
   "cell_type": "code",
   "execution_count": 6,
   "id": "757cae6d-5498-4781-a991-9cc5f61a9793",
   "metadata": {
    "tags": []
   },
   "outputs": [],
   "source": [
    "def abusive_censor(text):\n",
    "    for word in abusive_data['ABUSIVE']:\n",
    "        if word == text:\n",
    "            text = text.replace(word, '*' * 3)\n",
    "    return text\n",
    "def abusive_cleansing(text):\n",
    "    clean_text = ' '.join([abusive_censor(i) for i in text.split()])\n",
    "    return clean_text"
   ]
  },
  {
   "cell_type": "code",
   "execution_count": 7,
   "id": "98f69b7a-c9e2-4b3e-8604-9e84e1121931",
   "metadata": {
    "tags": []
   },
   "outputs": [],
   "source": [
    "def alay_replace(text):\n",
    "    for key, value in kamus_alay_dict.items():\n",
    "        if key == text:\n",
    "            text = text.replace(key, value)\n",
    "    return text\n",
    "def alay_cleansing(text):\n",
    "    clean_text = ' '.join([alay_replace(j) for j in text.split()])\n",
    "    return clean_text"
   ]
  },
  {
   "cell_type": "code",
   "execution_count": 10,
   "id": "9491075e-3a1e-4274-ac6d-f1d5c3ef3972",
   "metadata": {},
   "outputs": [
    {
     "data": {
      "text/html": [
       "<div>\n",
       "<style scoped>\n",
       "    .dataframe tbody tr th:only-of-type {\n",
       "        vertical-align: middle;\n",
       "    }\n",
       "\n",
       "    .dataframe tbody tr th {\n",
       "        vertical-align: top;\n",
       "    }\n",
       "\n",
       "    .dataframe thead th {\n",
       "        text-align: right;\n",
       "    }\n",
       "</style>\n",
       "<table border=\"1\" class=\"dataframe\">\n",
       "  <thead>\n",
       "    <tr style=\"text-align: right;\">\n",
       "      <th></th>\n",
       "      <th>kalimat</th>\n",
       "      <th>sentiment</th>\n",
       "      <th>clean text</th>\n",
       "    </tr>\n",
       "  </thead>\n",
       "  <tbody>\n",
       "    <tr>\n",
       "      <th>0</th>\n",
       "      <td>warung ini dimiliki oleh pengusaha pabrik tahu...</td>\n",
       "      <td>positive</td>\n",
       "      <td>warung ini dimiliki oleh pengusaha pabrik tahu...</td>\n",
       "    </tr>\n",
       "    <tr>\n",
       "      <th>1</th>\n",
       "      <td>mohon ulama lurus dan k212 mmbri hujjah partai...</td>\n",
       "      <td>neutral</td>\n",
       "      <td>mohon ulama lurus dan k212 mmbri hujjah partai...</td>\n",
       "    </tr>\n",
       "    <tr>\n",
       "      <th>2</th>\n",
       "      <td>lokasi strategis di jalan sumatera bandung . t...</td>\n",
       "      <td>positive</td>\n",
       "      <td>lokasi strategis di jalan sumatera bandung tem...</td>\n",
       "    </tr>\n",
       "    <tr>\n",
       "      <th>3</th>\n",
       "      <td>betapa bahagia nya diri ini saat unboxing pake...</td>\n",
       "      <td>positive</td>\n",
       "      <td>betapa bahagia nya diri ini saat unboxing pake...</td>\n",
       "    </tr>\n",
       "    <tr>\n",
       "      <th>4</th>\n",
       "      <td>duh . jadi mahasiswa jangan sombong dong . kas...</td>\n",
       "      <td>negative</td>\n",
       "      <td>duh jadi mahasiswa jangan sombong dong kasih k...</td>\n",
       "    </tr>\n",
       "    <tr>\n",
       "      <th>...</th>\n",
       "      <td>...</td>\n",
       "      <td>...</td>\n",
       "      <td>...</td>\n",
       "    </tr>\n",
       "    <tr>\n",
       "      <th>10995</th>\n",
       "      <td>tidak kecewa</td>\n",
       "      <td>positive</td>\n",
       "      <td>tidak kecewa</td>\n",
       "    </tr>\n",
       "    <tr>\n",
       "      <th>10996</th>\n",
       "      <td>enak rasa masakan nya apalagi kepiting yang me...</td>\n",
       "      <td>positive</td>\n",
       "      <td>enak rasa masakan nya apalagi kepiting yang me...</td>\n",
       "    </tr>\n",
       "    <tr>\n",
       "      <th>10997</th>\n",
       "      <td>hormati partai-partai yang telah berkoalisi</td>\n",
       "      <td>neutral</td>\n",
       "      <td>hormati partai partai yang telah berkoalisi</td>\n",
       "    </tr>\n",
       "    <tr>\n",
       "      <th>10998</th>\n",
       "      <td>pagi pagi di tol pasteur sudah macet parah , b...</td>\n",
       "      <td>negative</td>\n",
       "      <td>pagi pagi di tol pasteur sudah macet parah bik...</td>\n",
       "    </tr>\n",
       "    <tr>\n",
       "      <th>10999</th>\n",
       "      <td>meskipun sering belanja ke yogya di riau junct...</td>\n",
       "      <td>positive</td>\n",
       "      <td>meskipun sering belanja ke yogya di riau junct...</td>\n",
       "    </tr>\n",
       "  </tbody>\n",
       "</table>\n",
       "<p>11000 rows × 3 columns</p>\n",
       "</div>"
      ],
      "text/plain": [
       "                                                 kalimat sentiment  \\\n",
       "0      warung ini dimiliki oleh pengusaha pabrik tahu...  positive   \n",
       "1      mohon ulama lurus dan k212 mmbri hujjah partai...   neutral   \n",
       "2      lokasi strategis di jalan sumatera bandung . t...  positive   \n",
       "3      betapa bahagia nya diri ini saat unboxing pake...  positive   \n",
       "4      duh . jadi mahasiswa jangan sombong dong . kas...  negative   \n",
       "...                                                  ...       ...   \n",
       "10995                                       tidak kecewa  positive   \n",
       "10996  enak rasa masakan nya apalagi kepiting yang me...  positive   \n",
       "10997        hormati partai-partai yang telah berkoalisi   neutral   \n",
       "10998  pagi pagi di tol pasteur sudah macet parah , b...  negative   \n",
       "10999  meskipun sering belanja ke yogya di riau junct...  positive   \n",
       "\n",
       "                                              clean text  \n",
       "0      warung ini dimiliki oleh pengusaha pabrik tahu...  \n",
       "1      mohon ulama lurus dan k212 mmbri hujjah partai...  \n",
       "2      lokasi strategis di jalan sumatera bandung tem...  \n",
       "3      betapa bahagia nya diri ini saat unboxing pake...  \n",
       "4      duh jadi mahasiswa jangan sombong dong kasih k...  \n",
       "...                                                  ...  \n",
       "10995                                       tidak kecewa  \n",
       "10996  enak rasa masakan nya apalagi kepiting yang me...  \n",
       "10997        hormati partai partai yang telah berkoalisi  \n",
       "10998  pagi pagi di tol pasteur sudah macet parah bik...  \n",
       "10999  meskipun sering belanja ke yogya di riau junct...  \n",
       "\n",
       "[11000 rows x 3 columns]"
      ]
     },
     "execution_count": 10,
     "metadata": {},
     "output_type": "execute_result"
    }
   ],
   "source": [
    "df['clean text'] = df['kalimat'].apply(text_cleansing)\n",
    "df"
   ]
  },
  {
   "cell_type": "markdown",
   "id": "3bc2bd65-93d1-4918-b809-352512e47c48",
   "metadata": {
    "tags": []
   },
   "source": [
    "### Removes stopword from text"
   ]
  },
  {
   "cell_type": "code",
   "execution_count": 11,
   "id": "a2058ff7-3565-405a-98b9-a8c8a57abee6",
   "metadata": {
    "tags": []
   },
   "outputs": [],
   "source": [
    "# duplicate dataset\n",
    "df_2 = df.copy()"
   ]
  },
  {
   "cell_type": "code",
   "execution_count": 12,
   "id": "4b060fed-7ad0-4841-b076-1a653ec3d78c",
   "metadata": {},
   "outputs": [],
   "source": [
    "# Define function for removing stopword\n",
    "def remove_stopwords(text):\n",
    "    stopword = stopword_id['stopword'].values\n",
    "    clean_text = [word for word in text.split() if word.lower() not in stopword]\n",
    "    clean_text = ' '.join(clean_text)\n",
    "    return clean_text"
   ]
  },
  {
   "cell_type": "code",
   "execution_count": 13,
   "id": "bab7d352-4332-4853-8c15-15d295c55df1",
   "metadata": {
    "tags": []
   },
   "outputs": [
    {
     "data": {
      "text/html": [
       "<div>\n",
       "<style scoped>\n",
       "    .dataframe tbody tr th:only-of-type {\n",
       "        vertical-align: middle;\n",
       "    }\n",
       "\n",
       "    .dataframe tbody tr th {\n",
       "        vertical-align: top;\n",
       "    }\n",
       "\n",
       "    .dataframe thead th {\n",
       "        text-align: right;\n",
       "    }\n",
       "</style>\n",
       "<table border=\"1\" class=\"dataframe\">\n",
       "  <thead>\n",
       "    <tr style=\"text-align: right;\">\n",
       "      <th></th>\n",
       "      <th>kalimat</th>\n",
       "      <th>sentiment</th>\n",
       "      <th>clean text</th>\n",
       "      <th>clean stopword</th>\n",
       "    </tr>\n",
       "  </thead>\n",
       "  <tbody>\n",
       "    <tr>\n",
       "      <th>0</th>\n",
       "      <td>warung ini dimiliki oleh pengusaha pabrik tahu...</td>\n",
       "      <td>positive</td>\n",
       "      <td>warung ini dimiliki oleh pengusaha pabrik tahu...</td>\n",
       "      <td>warung dimiliki pengusaha pabrik puluhan terke...</td>\n",
       "    </tr>\n",
       "    <tr>\n",
       "      <th>1</th>\n",
       "      <td>mohon ulama lurus dan k212 mmbri hujjah partai...</td>\n",
       "      <td>neutral</td>\n",
       "      <td>mohon ulama lurus dan k212 mmbri hujjah partai...</td>\n",
       "      <td>mohon ulama lurus k212 mmbri hujjah partai diw...</td>\n",
       "    </tr>\n",
       "    <tr>\n",
       "      <th>2</th>\n",
       "      <td>lokasi strategis di jalan sumatera bandung . t...</td>\n",
       "      <td>positive</td>\n",
       "      <td>lokasi strategis di jalan sumatera bandung tem...</td>\n",
       "      <td>lokasi strategis jalan sumatera bandung nyaman...</td>\n",
       "    </tr>\n",
       "    <tr>\n",
       "      <th>3</th>\n",
       "      <td>betapa bahagia nya diri ini saat unboxing pake...</td>\n",
       "      <td>positive</td>\n",
       "      <td>betapa bahagia nya diri ini saat unboxing pake...</td>\n",
       "      <td>betapa bahagia unboxing paket barang bagus men...</td>\n",
       "    </tr>\n",
       "    <tr>\n",
       "      <th>4</th>\n",
       "      <td>duh . jadi mahasiswa jangan sombong dong . kas...</td>\n",
       "      <td>negative</td>\n",
       "      <td>duh jadi mahasiswa jangan sombong dong kasih k...</td>\n",
       "      <td>duh mahasiswa sombong kasih kartu kuning belaj...</td>\n",
       "    </tr>\n",
       "    <tr>\n",
       "      <th>...</th>\n",
       "      <td>...</td>\n",
       "      <td>...</td>\n",
       "      <td>...</td>\n",
       "      <td>...</td>\n",
       "    </tr>\n",
       "    <tr>\n",
       "      <th>10995</th>\n",
       "      <td>tidak kecewa</td>\n",
       "      <td>positive</td>\n",
       "      <td>tidak kecewa</td>\n",
       "      <td>tidak kecewa</td>\n",
       "    </tr>\n",
       "    <tr>\n",
       "      <th>10996</th>\n",
       "      <td>enak rasa masakan nya apalagi kepiting yang me...</td>\n",
       "      <td>positive</td>\n",
       "      <td>enak rasa masakan nya apalagi kepiting yang me...</td>\n",
       "      <td>enak masakan kepiting menyenangkan memilih kep...</td>\n",
       "    </tr>\n",
       "    <tr>\n",
       "      <th>10997</th>\n",
       "      <td>hormati partai-partai yang telah berkoalisi</td>\n",
       "      <td>neutral</td>\n",
       "      <td>hormati partai partai yang telah berkoalisi</td>\n",
       "      <td>hormati partai partai berkoalisi</td>\n",
       "    </tr>\n",
       "    <tr>\n",
       "      <th>10998</th>\n",
       "      <td>pagi pagi di tol pasteur sudah macet parah , b...</td>\n",
       "      <td>negative</td>\n",
       "      <td>pagi pagi di tol pasteur sudah macet parah bik...</td>\n",
       "      <td>pagi pagi tol pasteur macet parah bikin jengkel</td>\n",
       "    </tr>\n",
       "    <tr>\n",
       "      <th>10999</th>\n",
       "      <td>meskipun sering belanja ke yogya di riau junct...</td>\n",
       "      <td>positive</td>\n",
       "      <td>meskipun sering belanja ke yogya di riau junct...</td>\n",
       "      <td>belanja yogya riau junction kali lihat foodlif...</td>\n",
       "    </tr>\n",
       "  </tbody>\n",
       "</table>\n",
       "<p>11000 rows × 4 columns</p>\n",
       "</div>"
      ],
      "text/plain": [
       "                                                 kalimat sentiment  \\\n",
       "0      warung ini dimiliki oleh pengusaha pabrik tahu...  positive   \n",
       "1      mohon ulama lurus dan k212 mmbri hujjah partai...   neutral   \n",
       "2      lokasi strategis di jalan sumatera bandung . t...  positive   \n",
       "3      betapa bahagia nya diri ini saat unboxing pake...  positive   \n",
       "4      duh . jadi mahasiswa jangan sombong dong . kas...  negative   \n",
       "...                                                  ...       ...   \n",
       "10995                                       tidak kecewa  positive   \n",
       "10996  enak rasa masakan nya apalagi kepiting yang me...  positive   \n",
       "10997        hormati partai-partai yang telah berkoalisi   neutral   \n",
       "10998  pagi pagi di tol pasteur sudah macet parah , b...  negative   \n",
       "10999  meskipun sering belanja ke yogya di riau junct...  positive   \n",
       "\n",
       "                                              clean text  \\\n",
       "0      warung ini dimiliki oleh pengusaha pabrik tahu...   \n",
       "1      mohon ulama lurus dan k212 mmbri hujjah partai...   \n",
       "2      lokasi strategis di jalan sumatera bandung tem...   \n",
       "3      betapa bahagia nya diri ini saat unboxing pake...   \n",
       "4      duh jadi mahasiswa jangan sombong dong kasih k...   \n",
       "...                                                  ...   \n",
       "10995                                       tidak kecewa   \n",
       "10996  enak rasa masakan nya apalagi kepiting yang me...   \n",
       "10997        hormati partai partai yang telah berkoalisi   \n",
       "10998  pagi pagi di tol pasteur sudah macet parah bik...   \n",
       "10999  meskipun sering belanja ke yogya di riau junct...   \n",
       "\n",
       "                                          clean stopword  \n",
       "0      warung dimiliki pengusaha pabrik puluhan terke...  \n",
       "1      mohon ulama lurus k212 mmbri hujjah partai diw...  \n",
       "2      lokasi strategis jalan sumatera bandung nyaman...  \n",
       "3      betapa bahagia unboxing paket barang bagus men...  \n",
       "4      duh mahasiswa sombong kasih kartu kuning belaj...  \n",
       "...                                                  ...  \n",
       "10995                                       tidak kecewa  \n",
       "10996  enak masakan kepiting menyenangkan memilih kep...  \n",
       "10997                   hormati partai partai berkoalisi  \n",
       "10998    pagi pagi tol pasteur macet parah bikin jengkel  \n",
       "10999  belanja yogya riau junction kali lihat foodlif...  \n",
       "\n",
       "[11000 rows x 4 columns]"
      ]
     },
     "execution_count": 13,
     "metadata": {},
     "output_type": "execute_result"
    }
   ],
   "source": [
    "# Removes stopword\n",
    "df_2['clean stopword'] = df['clean text'].apply(remove_stopwords)\n",
    "df_2"
   ]
  },
  {
   "cell_type": "markdown",
   "id": "d7e2e9df-f67b-4406-b453-9d3a160756b9",
   "metadata": {},
   "source": [
    "## Export to csv"
   ]
  },
  {
   "cell_type": "code",
   "execution_count": 14,
   "id": "c5d338ad-563e-466a-918c-3c275bccde62",
   "metadata": {
    "tags": []
   },
   "outputs": [],
   "source": [
    "df_2.to_csv(\n",
    "    \"csv_data/cleaned_text.csv\", \n",
    "    sep='\\t'\n",
    ")"
   ]
  }
 ],
 "metadata": {
  "kernelspec": {
   "display_name": "Python 3 (ipykernel)",
   "language": "python",
   "name": "python3"
  },
  "language_info": {
   "codemirror_mode": {
    "name": "ipython",
    "version": 3
   },
   "file_extension": ".py",
   "mimetype": "text/x-python",
   "name": "python",
   "nbconvert_exporter": "python",
   "pygments_lexer": "ipython3",
   "version": "3.10.6"
  }
 },
 "nbformat": 4,
 "nbformat_minor": 5
}
